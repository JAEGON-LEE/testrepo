{
    "cells": [
        {
            "cell_type": "markdown",
            "metadata": {
                "collapsed": true
            },
            "source": "# My Jupyter Notebook on IBM Watson Studio"
        },
        {
            "cell_type": "markdown",
            "metadata": {},
            "source": "Jaegon Lee\n-----------------\nKIA INDIA , Production manager"
        },
        {
            "cell_type": "markdown",
            "metadata": {},
            "source": "*I am interested in data science because data scientist is the sexiest job in the world now*"
        },
        {
            "cell_type": "markdown",
            "metadata": {},
            "source": "### The following code tests for adding two numbers"
        },
        {
            "cell_type": "code",
            "execution_count": 1,
            "metadata": {
                "scrolled": true
            },
            "outputs": [
                {
                    "name": "stdout",
                    "output_type": "stream",
                    "text": "1+2 = 3\n"
                }
            ],
            "source": "one = 1\ntwo = 2\nprint(\"1+2 =\",one + two)"
        },
        {
            "cell_type": "markdown",
            "metadata": {},
            "source": "___\n[I'm KIA link](https://www.kia.com)\n\nKIA logo: ![alt text](https://akm-img-a-in.tosshub.com/indiatoday/images/story/202101/01_Kia_s_new_logo_and_brand_sl_1200x768.jpeg?rcgvF.Ew0jGJHoOZ_RL0UIKQNYAFQgT.&size=770:433 \"Logo Title Text 1\")\n\n\n> KIA has changed it's new CI recently."
        },
        {
            "cell_type": "code",
            "execution_count": null,
            "metadata": {},
            "outputs": [],
            "source": ""
        },
        {
            "cell_type": "code",
            "execution_count": null,
            "metadata": {},
            "outputs": [],
            "source": ""
        }
    ],
    "metadata": {
        "kernelspec": {
            "display_name": "Python 3.7",
            "language": "python",
            "name": "python3"
        },
        "language_info": {
            "codemirror_mode": {
                "name": "ipython",
                "version": 3
            },
            "file_extension": ".py",
            "mimetype": "text/x-python",
            "name": "python",
            "nbconvert_exporter": "python",
            "pygments_lexer": "ipython3",
            "version": "3.7.9"
        }
    },
    "nbformat": 4,
    "nbformat_minor": 1
}